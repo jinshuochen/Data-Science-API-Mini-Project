{
 "cells": [
  {
   "cell_type": "markdown",
   "metadata": {},
   "source": [
    "This exercise will require you to pull some data from the Qunadl API. Qaundl is currently the most widely used aggregator of financial market data."
   ]
  },
  {
   "cell_type": "markdown",
   "metadata": {},
   "source": [
    "As a first step, you will need to register a free account on the http://www.quandl.com website."
   ]
  },
  {
   "cell_type": "markdown",
   "metadata": {},
   "source": [
    "After you register, you will be provided with a unique API key, that you should store:"
   ]
  },
  {
   "cell_type": "code",
   "execution_count": 1,
   "metadata": {},
   "outputs": [],
   "source": [
    "# Store the API key as a string - according to PEP8, constants are always named in all upper case\n",
    "API_KEY = 'W1UXnN3-2Etz7F3aZzux'"
   ]
  },
  {
   "cell_type": "markdown",
   "metadata": {},
   "source": [
    "Qaundl has a large number of data sources, but, unfortunately, most of them require a Premium subscription. Still, there are also a good number of free datasets."
   ]
  },
  {
   "cell_type": "markdown",
   "metadata": {},
   "source": [
    "For this mini project, we will focus on equities data from the Frankfurt Stock Exhange (FSE), which is available for free. We'll try and analyze the stock prices of a company called Carl Zeiss Meditec, which manufactures tools for eye examinations, as well as medical lasers for laser eye surgery: https://www.zeiss.com/meditec/int/home.html. The company is listed under the stock ticker AFX_X."
   ]
  },
  {
   "cell_type": "markdown",
   "metadata": {},
   "source": [
    "You can find the detailed Quandl API instructions here: https://docs.quandl.com/docs/time-series"
   ]
  },
  {
   "cell_type": "markdown",
   "metadata": {},
   "source": [
    "While there is a dedicated Python package for connecting to the Quandl API, we would prefer that you use the *requests* package, which can be easily downloaded using *pip* or *conda*. You can find the documentation for the package here: http://docs.python-requests.org/en/master/ "
   ]
  },
  {
   "cell_type": "markdown",
   "metadata": {},
   "source": [
    "Finally, apart from the *requests* package, you are encouraged to not use any third party Python packages, such as *pandas*, and instead focus on what's available in the Python Standard Library (the *collections* module might come in handy: https://pymotw.com/3/collections/ ).\n",
    "Also, since you won't have access to DataFrames, you are encouraged to us Python's native data structures - preferably dictionaries, though some questions can also be answered using lists.\n",
    "You can read more on these data structures here: https://docs.python.org/3/tutorial/datastructures.html"
   ]
  },
  {
   "cell_type": "markdown",
   "metadata": {},
   "source": [
    "Keep in mind that the JSON responses you will be getting from the API map almost one-to-one to Python's dictionaries. Unfortunately, they can be very nested, so make sure you read up on indexing dictionaries in the documentation provided above."
   ]
  },
  {
   "cell_type": "code",
   "execution_count": 2,
   "metadata": {},
   "outputs": [],
   "source": [
    "# First, import the relevant modules\n",
    "import requests\n",
    "import statistics"
   ]
  },
  {
   "cell_type": "code",
   "execution_count": 3,
   "metadata": {},
   "outputs": [],
   "source": [
    "# Now, call the Quandl API and pull out a small sample of the data (only one day) to get a glimpse\n",
    "# into the JSON structure that will be returned\n",
    "url = 'https://www.quandl.com/api/v3/datasets/FSE/AFX_X/data.json'\n",
    "params_oneday = dict(key=API_KEY, start_date = '2017-01-01', end_date = '2017-01-02')\n",
    "res_oneday = requests.get(url, params = params_oneday)\n",
    "json_data_oneday = res_oneday.json()"
   ]
  },
  {
   "cell_type": "code",
   "execution_count": 4,
   "metadata": {},
   "outputs": [
    {
     "name": "stdout",
     "output_type": "stream",
     "text": [
      "{'dataset_data': {'limit': None, 'transform': None, 'column_index': None, 'column_names': ['Date', 'Open', 'High', 'Low', 'Close', 'Change', 'Traded Volume', 'Turnover', 'Last Price of the Day', 'Daily Traded Units', 'Daily Turnover'], 'start_date': '2017-01-01', 'end_date': '2017-01-02', 'frequency': 'daily', 'data': [['2017-01-02', 34.99, 35.94, 34.99, 35.8, None, 44700.0, 1590561.0, None, None, None]], 'collapse': None, 'order': None}}\n"
     ]
    }
   ],
   "source": [
    "# Inspect the JSON structure of the object you created, and take note of how nested it is,\n",
    "# as well as the overall structure\n",
    "print(json_data_oneday)\n"
   ]
  },
  {
   "cell_type": "markdown",
   "metadata": {},
   "source": [
    "These are your tasks for this mini project:\n",
    "\n",
    "1. Collect data from the Franfurt Stock Exchange, for the ticker AFX_X, for the whole year 2017 (keep in mind that the date format is YYYY-MM-DD).\n",
    "2. Convert the returned JSON object into a Python dictionary.\n",
    "3. Calculate what the highest and lowest opening prices were for the stock in this period.\n",
    "4. What was the largest change in any one day (based on High and Low price)?\n",
    "5. What was the largest change between any two days (based on Closing Price)?\n",
    "6. What was the average daily trading volume during this year?\n",
    "7. (Optional) What was the median trading volume during this year. (Note: you may need to implement your own function for calculating the median.)"
   ]
  },
  {
   "cell_type": "code",
   "execution_count": 5,
   "metadata": {},
   "outputs": [],
   "source": [
    "# Collect data from the Franfurt Stock Exchange, for the ticker AFX_X, for the whole year 2017\n",
    "# Convert the returned JSON object into a Python dictionary.\n",
    "params = dict(key=API_KEY, start_date = '2016-12-31', end_date = '2017-12-31')\n",
    "res = requests.get(url, params = params)\n",
    "json_data = res.json()"
   ]
  },
  {
   "cell_type": "code",
   "execution_count": 6,
   "metadata": {},
   "outputs": [],
   "source": [
    "data = json_data['dataset_data']['data']"
   ]
  },
  {
   "cell_type": "code",
   "execution_count": 7,
   "metadata": {},
   "outputs": [],
   "source": [
    "# Iterate through the data list\n",
    "# create lists for each columns\n",
    "Open = []\n",
    "Open_pos = 1\n",
    "\n",
    "High = []\n",
    "High_pos = 2\n",
    "\n",
    "Low = []\n",
    "Low_pos = 3\n",
    "\n",
    "Close = []\n",
    "Close_pos= 4\n",
    "\n",
    "Traded = []\n",
    "Traded_pos = 6\n",
    "\n",
    "Changed_in_one_day = []\n",
    "\n",
    "Changed_between_two_days = []\n",
    "\n",
    "for year in range(0, len(data)):\n",
    "    if data[year][Open_pos] != None:\n",
    "        Open.append(data[year][Open_pos])\n",
    "    if data[year][High_pos] != None:\n",
    "        High.append(data[year][High_pos])\n",
    "    if data[year][Low_pos] != None:\n",
    "        Low.append(data[year][Low_pos])\n",
    "    if data[year][Low_pos] != None and data[year][High_pos] != None:\n",
    "        Changed_in_one_day.append(data[year][High_pos] - data[year][Low_pos])\n",
    "    if data[year][Close_pos] != None:\n",
    "        Close.append(data[year][Close_pos])\n",
    "    if data[year-1][Close_pos] != None and data[year][Close_pos] != None:\n",
    "        Changed_between_two_days.append(abs(data[year][Close_pos] - data[year-1][Close_pos]))\n",
    "    if data[year][Traded_pos] != None:\n",
    "        Traded.append(data[year][Traded_pos])\n",
    "    "
   ]
  },
  {
   "cell_type": "code",
   "execution_count": 8,
   "metadata": {},
   "outputs": [
    {
     "name": "stdout",
     "output_type": "stream",
     "text": [
      "The highest opening prices for stock in this period were 53.11\n",
      "The lowest opening price for stock in this period were 33.62\n"
     ]
    }
   ],
   "source": [
    "# Calculate what the highest and lowest opening prices were for the stock in this period.\n",
    "highest_opening_prices = max(Open)\n",
    "lowest_opening_pring = min(Low)\n",
    "print('The highest opening prices for stock in this period were '+ str(highest_opening_prices))\n",
    "print('The lowest opening price for stock in this period were ' + str(lowest_opening_pring))"
   ]
  },
  {
   "cell_type": "code",
   "execution_count": 9,
   "metadata": {},
   "outputs": [
    {
     "name": "stdout",
     "output_type": "stream",
     "text": [
      "The largest change between any two days (based on Closing Price) was 2.8100000000000023\n"
     ]
    }
   ],
   "source": [
    "# Calculate the largest change in any one day (based on High and Low price)\n",
    "max_changed_in_one_day = max(Changed_in_one_day)\n",
    "print('The largest change between any two days (based on Closing Price) was ' + str(max_changed_in_one_day))"
   ]
  },
  {
   "cell_type": "code",
   "execution_count": 10,
   "metadata": {},
   "outputs": [
    {
     "name": "stdout",
     "output_type": "stream",
     "text": [
      "The largest change between any two days (based on Closing Price) was 15.96\n"
     ]
    }
   ],
   "source": [
    "# Calculate the largest change between any two days (based on Closing Price)\n",
    "max_Changed_between_two_days = max(Changed_between_two_days)\n",
    "print('The largest change between any two days (based on Closing Price) was ' + str(max_Changed_between_two_days))"
   ]
  },
  {
   "cell_type": "code",
   "execution_count": 11,
   "metadata": {},
   "outputs": [
    {
     "name": "stdout",
     "output_type": "stream",
     "text": [
      "The average daily trading volume during this year was 89124.33725490196\n"
     ]
    }
   ],
   "source": [
    "# Calculate the average daily trading volume during this year\n",
    "average_traded_volume = statistics.mean(Traded)\n",
    "print('The average daily trading volume during this year was ' + str(average_traded_volume))"
   ]
  },
  {
   "cell_type": "code",
   "execution_count": 12,
   "metadata": {},
   "outputs": [
    {
     "name": "stdout",
     "output_type": "stream",
     "text": [
      "The median trading volume during this year was 76286.0\n"
     ]
    }
   ],
   "source": [
    "# Calculate the median trading volume during this year\n",
    "sorted_traded_volume = sorted(Traded)\n",
    "median_traded_volume = statistics.median(sorted_traded_volume)\n",
    "print('The median trading volume during this year was ' + str(median_traded_volume))"
   ]
  }
 ],
 "metadata": {
  "kernelspec": {
   "display_name": "Python 3",
   "language": "python",
   "name": "python3"
  },
  "language_info": {
   "codemirror_mode": {
    "name": "ipython",
    "version": 3
   },
   "file_extension": ".py",
   "mimetype": "text/x-python",
   "name": "python",
   "nbconvert_exporter": "python",
   "pygments_lexer": "ipython3",
   "version": "3.8.5"
  }
 },
 "nbformat": 4,
 "nbformat_minor": 2
}
